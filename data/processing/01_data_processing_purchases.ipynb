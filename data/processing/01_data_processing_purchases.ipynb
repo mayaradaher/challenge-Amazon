{
 "cells": [
  {
   "cell_type": "markdown",
   "metadata": {},
   "source": [
    "## Dataset: amazon-purchases"
   ]
  },
  {
   "cell_type": "code",
   "execution_count": 1,
   "metadata": {},
   "outputs": [],
   "source": [
    "import pandas as pd"
   ]
  },
  {
   "cell_type": "markdown",
   "metadata": {},
   "source": [
    "### Import dataset"
   ]
  },
  {
   "cell_type": "code",
   "execution_count": 2,
   "metadata": {},
   "outputs": [],
   "source": [
    "df_purchases_clean = pd.read_csv(\"data/raw/amazon_purchases.csv\")"
   ]
  },
  {
   "cell_type": "markdown",
   "metadata": {},
   "source": [
    "### Exploratory data analysis\n"
   ]
  },
  {
   "cell_type": "code",
   "execution_count": 3,
   "metadata": {},
   "outputs": [
    {
     "name": "stdout",
     "output_type": "stream",
     "text": [
      "<class 'pandas.core.frame.DataFrame'>\n",
      "RangeIndex: 1850717 entries, 0 to 1850716\n",
      "Data columns (total 8 columns):\n",
      " #   Column                    Dtype  \n",
      "---  ------                    -----  \n",
      " 0   Order Date                object \n",
      " 1   Purchase Price Per Unit   float64\n",
      " 2   Quantity                  float64\n",
      " 3   Shipping Address State    object \n",
      " 4   Title                     object \n",
      " 5   ASIN/ISBN (Product Code)  object \n",
      " 6   Category                  object \n",
      " 7   Survey ResponseID         object \n",
      "dtypes: float64(2), object(6)\n",
      "memory usage: 113.0+ MB\n"
     ]
    }
   ],
   "source": [
    "df_purchases_clean.info()  # data type"
   ]
  },
  {
   "cell_type": "code",
   "execution_count": 4,
   "metadata": {},
   "outputs": [
    {
     "data": {
      "text/plain": [
       "0          R_01vNIayewjIIKMF\n",
       "1          R_01vNIayewjIIKMF\n",
       "2          R_01vNIayewjIIKMF\n",
       "3          R_01vNIayewjIIKMF\n",
       "4          R_01vNIayewjIIKMF\n",
       "                 ...        \n",
       "1850712    R_zfqnsBzlOAKibzb\n",
       "1850713    R_zfqnsBzlOAKibzb\n",
       "1850714    R_zfqnsBzlOAKibzb\n",
       "1850715    R_zfqnsBzlOAKibzb\n",
       "1850716    R_zfqnsBzlOAKibzb\n",
       "Name: Survey ResponseID, Length: 1850717, dtype: object"
      ]
     },
     "execution_count": 4,
     "metadata": {},
     "output_type": "execute_result"
    }
   ],
   "source": [
    "df_purchases_clean[\"Survey ResponseID\"]"
   ]
  },
  {
   "cell_type": "code",
   "execution_count": 5,
   "metadata": {},
   "outputs": [
    {
     "data": {
      "text/plain": [
       "2014758.0"
      ]
     },
     "execution_count": 5,
     "metadata": {},
     "output_type": "execute_result"
    }
   ],
   "source": [
    "df_purchases_clean[\"Quantity\"].sum()"
   ]
  },
  {
   "cell_type": "code",
   "execution_count": 6,
   "metadata": {},
   "outputs": [
    {
     "data": {
      "text/plain": [
       "Category\n",
       "ABIS_BOOK                        87619\n",
       "PET_FOOD                         38256\n",
       "GIFT_CARD                        27734\n",
       "SHIRT                            27267\n",
       "NUTRITIONAL_SUPPLEMENT           26913\n",
       "                                 ...  \n",
       "FUEL_INJECTOR                        1\n",
       "FIRE_GRATE                           1\n",
       "NONACTIVATED_GIFT_CARD               1\n",
       "AUTO_CHEMICAL                        1\n",
       "COMPUTER_VIDEO_GAME_CONTOLLER        1\n",
       "Name: count, Length: 1871, dtype: int64"
      ]
     },
     "execution_count": 6,
     "metadata": {},
     "output_type": "execute_result"
    }
   ],
   "source": [
    "df_purchases_clean[\n",
    "    \"Category\"\n",
    "].value_counts()  # different data types within the selected column"
   ]
  },
  {
   "cell_type": "code",
   "execution_count": 7,
   "metadata": {},
   "outputs": [
    {
     "data": {
      "text/plain": [
       "5027"
      ]
     },
     "execution_count": 7,
     "metadata": {},
     "output_type": "execute_result"
    }
   ],
   "source": [
    "df_purchases_clean[\n",
    "    \"Survey ResponseID\"\n",
    "].nunique()  # number of unique values within the selected column"
   ]
  },
  {
   "cell_type": "code",
   "execution_count": 8,
   "metadata": {},
   "outputs": [
    {
     "data": {
      "text/html": [
       "<div>\n",
       "<style scoped>\n",
       "    .dataframe tbody tr th:only-of-type {\n",
       "        vertical-align: middle;\n",
       "    }\n",
       "\n",
       "    .dataframe tbody tr th {\n",
       "        vertical-align: top;\n",
       "    }\n",
       "\n",
       "    .dataframe thead th {\n",
       "        text-align: right;\n",
       "    }\n",
       "</style>\n",
       "<table border=\"1\" class=\"dataframe\">\n",
       "  <thead>\n",
       "    <tr style=\"text-align: right;\">\n",
       "      <th></th>\n",
       "      <th>Order Date</th>\n",
       "      <th>Purchase Price Per Unit</th>\n",
       "      <th>Quantity</th>\n",
       "      <th>Shipping Address State</th>\n",
       "      <th>Title</th>\n",
       "      <th>ASIN/ISBN (Product Code)</th>\n",
       "      <th>Category</th>\n",
       "      <th>Survey ResponseID</th>\n",
       "    </tr>\n",
       "  </thead>\n",
       "  <tbody>\n",
       "    <tr>\n",
       "      <th>240482</th>\n",
       "      <td>2024-08-15</td>\n",
       "      <td>1.84</td>\n",
       "      <td>1.0</td>\n",
       "      <td>NaN</td>\n",
       "      <td>Allstate 4-Year PC Peripheral Protection Plan ...</td>\n",
       "      <td>B008I64UF4</td>\n",
       "      <td>COMPUTER</td>\n",
       "      <td>R_1d1fnT4sjZABBwe</td>\n",
       "    </tr>\n",
       "  </tbody>\n",
       "</table>\n",
       "</div>"
      ],
      "text/plain": [
       "        Order Date  Purchase Price Per Unit  Quantity Shipping Address State  \\\n",
       "240482  2024-08-15                     1.84       1.0                    NaN   \n",
       "\n",
       "                                                    Title  \\\n",
       "240482  Allstate 4-Year PC Peripheral Protection Plan ...   \n",
       "\n",
       "       ASIN/ISBN (Product Code)  Category  Survey ResponseID  \n",
       "240482               B008I64UF4  COMPUTER  R_1d1fnT4sjZABBwe  "
      ]
     },
     "execution_count": 8,
     "metadata": {},
     "output_type": "execute_result"
    }
   ],
   "source": [
    "df_purchases_clean[\n",
    "    df_purchases_clean[\"Order Date\"].str.startswith(\"2024\")\n",
    "]  # filters the rows where the 'Order Date' starts with '2024'"
   ]
  },
  {
   "cell_type": "code",
   "execution_count": 9,
   "metadata": {},
   "outputs": [
    {
     "data": {
      "text/html": [
       "<div>\n",
       "<style scoped>\n",
       "    .dataframe tbody tr th:only-of-type {\n",
       "        vertical-align: middle;\n",
       "    }\n",
       "\n",
       "    .dataframe tbody tr th {\n",
       "        vertical-align: top;\n",
       "    }\n",
       "\n",
       "    .dataframe thead th {\n",
       "        text-align: right;\n",
       "    }\n",
       "</style>\n",
       "<table border=\"1\" class=\"dataframe\">\n",
       "  <thead>\n",
       "    <tr style=\"text-align: right;\">\n",
       "      <th></th>\n",
       "      <th>Order Date</th>\n",
       "      <th>Purchase Price Per Unit</th>\n",
       "      <th>Quantity</th>\n",
       "      <th>Shipping Address State</th>\n",
       "      <th>Title</th>\n",
       "      <th>ASIN/ISBN (Product Code)</th>\n",
       "      <th>Category</th>\n",
       "      <th>Survey ResponseID</th>\n",
       "    </tr>\n",
       "  </thead>\n",
       "  <tbody>\n",
       "    <tr>\n",
       "      <th>1833380</th>\n",
       "      <td>2019-04-19</td>\n",
       "      <td>2.15</td>\n",
       "      <td>55.0</td>\n",
       "      <td>NaN</td>\n",
       "      <td>Bring | Teach | Keep: Illuminating the Biblica...</td>\n",
       "      <td>148183651X</td>\n",
       "      <td>ABIS_BOOK</td>\n",
       "      <td>R_yK4rOrk16ZOoWwp</td>\n",
       "    </tr>\n",
       "  </tbody>\n",
       "</table>\n",
       "</div>"
      ],
      "text/plain": [
       "         Order Date  Purchase Price Per Unit  Quantity Shipping Address State  \\\n",
       "1833380  2019-04-19                     2.15      55.0                    NaN   \n",
       "\n",
       "                                                     Title  \\\n",
       "1833380  Bring | Teach | Keep: Illuminating the Biblica...   \n",
       "\n",
       "        ASIN/ISBN (Product Code)   Category  Survey ResponseID  \n",
       "1833380               148183651X  ABIS_BOOK  R_yK4rOrk16ZOoWwp  "
      ]
     },
     "execution_count": 9,
     "metadata": {},
     "output_type": "execute_result"
    }
   ],
   "source": [
    "df_purchases_clean[\n",
    "    df_purchases_clean[\"Quantity\"] == 55\n",
    "]  # filters the rows where the 'Quantity' is equal '55'"
   ]
  },
  {
   "cell_type": "markdown",
   "metadata": {},
   "source": [
    "#### Memory usage dataset\n"
   ]
  },
  {
   "cell_type": "code",
   "execution_count": 10,
   "metadata": {},
   "outputs": [
    {
     "name": "stdout",
     "output_type": "stream",
     "text": [
      "Total memory: 0.89 GB\n",
      "\n",
      "Memory by column:\n",
      "Index                        0.000014\n",
      "Order Date                  13.040120\n",
      "Purchase Price Per Unit      1.557029\n",
      "Quantity                     1.557029\n",
      "Shipping Address State      11.233755\n",
      "Title                       32.049373\n",
      "ASIN/ISBN (Product Code)    13.036141\n",
      "Category                    13.124018\n",
      "Survey ResponseID           14.402521\n",
      "dtype: float64\n"
     ]
    }
   ],
   "source": [
    "memory = df_purchases_clean.memory_usage(deep=True)  # RAM memory used by each column\n",
    "total_memory_gb = memory.sum() / (1024**3)  # transform into GB\n",
    "print(f\"Total memory: {total_memory_gb:.2f} GB\")\n",
    "\n",
    "memory_percent = memory / memory.sum() * 100  # RAM memory used by each column in GB\n",
    "print(\"\\nMemory by column:\")\n",
    "print(memory_percent)"
   ]
  },
  {
   "cell_type": "markdown",
   "metadata": {},
   "source": [
    "### Data cleaning\n"
   ]
  },
  {
   "cell_type": "code",
   "execution_count": 11,
   "metadata": {},
   "outputs": [],
   "source": [
    "# Edit \"Category\" column and convert to \"category\"\n",
    "def capitalized_case(s):\n",
    "    if pd.isna(s):\n",
    "        return s\n",
    "    words = s.split(\"_\")\n",
    "    return \" \".join([words[0].capitalize()] + [word.lower() for word in words[1:]])\n",
    "\n",
    "\n",
    "df_purchases_clean[\"Category\"] = (\n",
    "    df_purchases_clean[\"Category\"].apply(capitalized_case).astype(\"category\")\n",
    ")"
   ]
  },
  {
   "cell_type": "markdown",
   "metadata": {},
   "source": [
    "### Reduce dataset size"
   ]
  },
  {
   "cell_type": "code",
   "execution_count": 12,
   "metadata": {},
   "outputs": [],
   "source": [
    "# Convert columns to \"category\"\n",
    "df_purchases_clean[\"Shipping Address State\"] = df_purchases_clean[\n",
    "    \"Shipping Address State\"\n",
    "].astype(\"category\")\n",
    "\n",
    "df_purchases_clean[\"Survey ResponseID\"] = df_purchases_clean[\n",
    "    \"Survey ResponseID\"\n",
    "].astype(\"category\")\n",
    "\n",
    "# Convert columns to \"date\"\n",
    "df_purchases_clean[\"Order Date\"] = pd.to_datetime(df_purchases_clean[\"Order Date\"])\n",
    "\n",
    "# Convert columns to \"int8\"\n",
    "df_purchases_clean[\"Quantity\"] = df_purchases_clean[\"Quantity\"].astype(\"int8\")\n",
    "\n",
    "df_purchases_clean[\"ASIN/ISBN (Product Code)\"] = df_purchases_clean[\n",
    "    \"ASIN/ISBN (Product Code)\"\n",
    "].astype(\"category\")"
   ]
  },
  {
   "cell_type": "markdown",
   "metadata": {},
   "source": [
    "### Adding columns\n"
   ]
  },
  {
   "cell_type": "code",
   "execution_count": 13,
   "metadata": {},
   "outputs": [],
   "source": [
    "# Extract the year from \"Order Date\"\n",
    "df_purchases_clean[\"Order Date Year\"] = df_purchases_clean[\"Order Date\"].dt.year"
   ]
  },
  {
   "cell_type": "code",
   "execution_count": 14,
   "metadata": {},
   "outputs": [],
   "source": [
    "# Extract the month from \"Order Date\" and sort it\n",
    "df_purchases_clean[\"Order Date Month\"] = pd.Categorical(\n",
    "    df_purchases_clean[\"Order Date\"].dt.strftime(\"%b\"),\n",
    "    categories=[\n",
    "        \"Jan\",\n",
    "        \"Feb\",\n",
    "        \"Mar\",\n",
    "        \"Apr\",\n",
    "        \"May\",\n",
    "        \"Jun\",\n",
    "        \"Jul\",\n",
    "        \"Aug\",\n",
    "        \"Sep\",\n",
    "        \"Oct\",\n",
    "        \"Nov\",\n",
    "        \"Dec\",\n",
    "    ],\n",
    "    ordered=True,\n",
    ")"
   ]
  },
  {
   "cell_type": "code",
   "execution_count": 15,
   "metadata": {},
   "outputs": [],
   "source": [
    "# Create \"Purchase Total\" column\n",
    "df_purchases_clean[\"Purchase Total\"] = (\n",
    "    df_purchases_clean[\"Purchase Price Per Unit\"] * df_purchases_clean[\"Quantity\"]\n",
    ")\n",
    "\n",
    "# NA values\n",
    "df_purchases_clean[\"Quantity\"] = df_purchases_clean[\"Quantity\"].fillna(0)"
   ]
  },
  {
   "cell_type": "markdown",
   "metadata": {},
   "source": [
    "#### Memory usage dataset now\n"
   ]
  },
  {
   "cell_type": "code",
   "execution_count": 16,
   "metadata": {},
   "outputs": [
    {
     "name": "stdout",
     "output_type": "stream",
     "text": [
      "Total memory: 0.44 GB\n",
      "\n",
      "Memory by column:\n",
      "Index                        0.000028\n",
      "Order Date                   3.121104\n",
      "Purchase Price Per Unit      3.121104\n",
      "Quantity                     0.390138\n",
      "Shipping Address State       0.391228\n",
      "Title                       64.243764\n",
      "ASIN/ISBN (Product Code)    21.951977\n",
      "Category                     0.822100\n",
      "Survey ResponseID            0.886549\n",
      "Order Date Year              1.560552\n",
      "Order Date Month             0.390353\n",
      "Purchase Total               3.121104\n",
      "dtype: float64\n"
     ]
    }
   ],
   "source": [
    "memory = df_purchases_clean.memory_usage(deep=True)  # RAM memory used by each column\n",
    "total_memory_gb = memory.sum() / (1024**3)  # transform into GB\n",
    "print(f\"Total memory: {total_memory_gb:.2f} GB\")\n",
    "\n",
    "memory_percent = memory / memory.sum() * 100  # RAM memory used by each column in GB\n",
    "print(\"\\nMemory by column:\")\n",
    "print(memory_percent)"
   ]
  },
  {
   "cell_type": "code",
   "execution_count": 17,
   "metadata": {},
   "outputs": [
    {
     "data": {
      "text/plain": [
       "5027"
      ]
     },
     "execution_count": 17,
     "metadata": {},
     "output_type": "execute_result"
    }
   ],
   "source": [
    "df_purchases_clean[\"Survey ResponseID\"].nunique()"
   ]
  },
  {
   "cell_type": "markdown",
   "metadata": {},
   "source": [
    "### Create new dataset - page 1"
   ]
  },
  {
   "cell_type": "code",
   "execution_count": 18,
   "metadata": {},
   "outputs": [],
   "source": [
    "selected_columns = [\n",
    "    \"Survey ResponseID\",\n",
    "    \"Order Date\",\n",
    "    \"Order Date Year\",\n",
    "    \"Order Date Month\",\n",
    "    \"Category\",\n",
    "    \"Quantity\",\n",
    "    \"Purchase Price Per Unit\",\n",
    "    \"Purchase Total\",\n",
    "    \"ASIN/ISBN (Product Code)\",\n",
    "]\n",
    "df_purchases_clean = df_purchases_clean[selected_columns]"
   ]
  },
  {
   "cell_type": "markdown",
   "metadata": {},
   "source": [
    "### Save dataset\n"
   ]
  },
  {
   "cell_type": "code",
   "execution_count": 19,
   "metadata": {},
   "outputs": [],
   "source": [
    "df_purchases_clean.to_parquet(\"data/ready/amazon_purchases.parquet\")  # parquet format"
   ]
  }
 ],
 "metadata": {
  "kernelspec": {
   "display_name": "base",
   "language": "python",
   "name": "python3"
  },
  "language_info": {
   "codemirror_mode": {
    "name": "ipython",
    "version": 3
   },
   "file_extension": ".py",
   "mimetype": "text/x-python",
   "name": "python",
   "nbconvert_exporter": "python",
   "pygments_lexer": "ipython3",
   "version": "3.11.5"
  }
 },
 "nbformat": 4,
 "nbformat_minor": 2
}
