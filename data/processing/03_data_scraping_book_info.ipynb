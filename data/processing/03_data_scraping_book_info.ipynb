{
 "cells": [
  {
   "cell_type": "markdown",
   "metadata": {},
   "source": [
    "## Dataset: scraping books"
   ]
  },
  {
   "cell_type": "code",
   "execution_count": 9,
   "metadata": {},
   "outputs": [],
   "source": [
    "import pandas as pd\n",
    "import requests as r\n",
    "import time"
   ]
  },
  {
   "cell_type": "markdown",
   "metadata": {},
   "source": [
    "### Import dataset"
   ]
  },
  {
   "cell_type": "code",
   "execution_count": 10,
   "metadata": {},
   "outputs": [],
   "source": [
    "df = pd.read_parquet(\"data/ready/amazon_purchases.parquet\")"
   ]
  },
  {
   "cell_type": "markdown",
   "metadata": {},
   "source": [
    "### Data cleaning\n"
   ]
  },
  {
   "cell_type": "code",
   "execution_count": 11,
   "metadata": {},
   "outputs": [],
   "source": [
    "# Filter by ISBN with 10 and 13 digits and Category Abis book\n",
    "df = df[\n",
    "    (df[\"Category\"] == \"Abis book\")\n",
    "    & (df[\"ASIN/ISBN (Product Code)\"].str.len().isin([10, 13]))\n",
    "]"
   ]
  },
  {
   "cell_type": "code",
   "execution_count": 12,
   "metadata": {},
   "outputs": [
    {
     "data": {
      "text/plain": [
       "56455"
      ]
     },
     "execution_count": 12,
     "metadata": {},
     "output_type": "execute_result"
    }
   ],
   "source": [
    "df[\"ASIN/ISBN (Product Code)\"].nunique()"
   ]
  },
  {
   "cell_type": "code",
   "execution_count": 13,
   "metadata": {},
   "outputs": [],
   "source": [
    "# get unique ISBNs list\n",
    "isbn_list = df[\"ASIN/ISBN (Product Code)\"].unique().tolist()"
   ]
  },
  {
   "cell_type": "markdown",
   "metadata": {},
   "source": [
    "### ISBN Search - Google Books API"
   ]
  },
  {
   "cell_type": "code",
   "execution_count": 14,
   "metadata": {},
   "outputs": [],
   "source": [
    "def get_book_info_from_google(isbn):\n",
    "    response = r.get(f\"https://www.googleapis.com/books/v1/volumes?q=isbn:{isbn}\")\n",
    "    if response.status_code == 200:\n",
    "        data = response.json()\n",
    "        if \"items\" in data:\n",
    "            book_info = data[\"items\"][0][\"volumeInfo\"]\n",
    "            return {\n",
    "                \"isbn\": isbn,\n",
    "                \"title\": book_info.get(\"title\", \"Title not available\"),\n",
    "                \"authors\": book_info.get(\"authors\", [\"Authors not available\"]),\n",
    "                \"categories\": book_info.get(\"categories\", [\"Categories not available\"]),\n",
    "                \"description\": book_info.get(\n",
    "                    \"description\", [\"Description not available\"]\n",
    "                ),\n",
    "            }\n",
    "        else:\n",
    "            return \"Book not found\"\n",
    "    else:\n",
    "        return f\"Error accessing Google Books API: {response.status_code}\""
   ]
  },
  {
   "cell_type": "code",
   "execution_count": 15,
   "metadata": {},
   "outputs": [
    {
     "name": "stdout",
     "output_type": "stream",
     "text": [
      "Tempo médio por requisição: 0.60 segundos\n",
      "Tempo estimado total: 568.06 minutos\n"
     ]
    }
   ],
   "source": [
    "# estimating total time for ISBN search\n",
    "\n",
    "import time\n",
    "import random\n",
    "\n",
    "# subset of ISBNs for testing (e.g., 10 ISBNs)\n",
    "test_isbn_list = random.sample(isbn_list, 10)\n",
    "\n",
    "start_time = time.time()\n",
    "\n",
    "# run the code for the subset\n",
    "book_info_list = [get_book_info_from_google(isbn) for isbn in test_isbn_list]\n",
    "\n",
    "end_time = time.time()\n",
    "\n",
    "# average time/request\n",
    "average_time_per_request = (end_time - start_time) / len(test_isbn_list)\n",
    "print(f\"Tempo médio por requisição: {average_time_per_request:.2f} segundos\")\n",
    "\n",
    "# estimated total time for all ISBNs\n",
    "estimated_total_time = average_time_per_request * len(isbn_list)\n",
    "print(f\"Tempo estimado total: {estimated_total_time / 60:.2f} minutos\")"
   ]
  },
  {
   "cell_type": "code",
   "execution_count": 16,
   "metadata": {},
   "outputs": [],
   "source": [
    "# run the code for the entire dataset\n",
    "book_info_list = [get_book_info_from_google(isbn) for isbn in isbn_list]"
   ]
  },
  {
   "cell_type": "code",
   "execution_count": 17,
   "metadata": {},
   "outputs": [],
   "source": [
    "# filter only items that are dictionaries\n",
    "filtered_book_info_list = [book for book in book_info_list if isinstance(book, dict)]\n",
    "\n",
    "# convert to df\n",
    "df = pd.DataFrame(filtered_book_info_list)\n",
    "\n",
    "# save parquet file\n",
    "df.to_parquet(\"data/raw/book_info.parquet\", engine=\"pyarrow\", index=False)"
   ]
  }
 ],
 "metadata": {
  "kernelspec": {
   "display_name": "base",
   "language": "python",
   "name": "python3"
  },
  "language_info": {
   "codemirror_mode": {
    "name": "ipython",
    "version": 3
   },
   "file_extension": ".py",
   "mimetype": "text/x-python",
   "name": "python",
   "nbconvert_exporter": "python",
   "pygments_lexer": "ipython3",
   "version": "3.12.5"
  }
 },
 "nbformat": 4,
 "nbformat_minor": 2
}
