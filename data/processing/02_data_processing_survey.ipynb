{
 "cells": [
  {
   "cell_type": "markdown",
   "metadata": {},
   "source": [
    "## Dataset: survey"
   ]
  },
  {
   "cell_type": "code",
   "execution_count": 22,
   "metadata": {},
   "outputs": [],
   "source": [
    "import pandas as pd"
   ]
  },
  {
   "cell_type": "markdown",
   "metadata": {},
   "source": [
    "### Import dataset"
   ]
  },
  {
   "cell_type": "code",
   "execution_count": 23,
   "metadata": {},
   "outputs": [],
   "source": [
    "df_survey_clean = pd.read_csv(\"data/raw/survey.csv\")"
   ]
  },
  {
   "cell_type": "markdown",
   "metadata": {},
   "source": [
    "### Exploratory data analysis"
   ]
  },
  {
   "cell_type": "code",
   "execution_count": 3,
   "metadata": {},
   "outputs": [
    {
     "name": "stdout",
     "output_type": "stream",
     "text": [
      "<class 'pandas.core.frame.DataFrame'>\n",
      "RangeIndex: 5027 entries, 0 to 5026\n",
      "Data columns (total 23 columns):\n",
      " #   Column                      Non-Null Count  Dtype \n",
      "---  ------                      --------------  ----- \n",
      " 0   Survey ResponseID           5027 non-null   object\n",
      " 1   Q-demos-age                 5027 non-null   object\n",
      " 2   Q-demos-hispanic            5027 non-null   object\n",
      " 3   Q-demos-race                5027 non-null   object\n",
      " 4   Q-demos-education           5027 non-null   object\n",
      " 5   Q-demos-income              5027 non-null   object\n",
      " 6   Q-demos-gender              5027 non-null   object\n",
      " 7   Q-sexual-orientation        5027 non-null   object\n",
      " 8   Q-demos-state               5027 non-null   object\n",
      " 9   Q-amazon-use-howmany        5027 non-null   object\n",
      " 10  Q-amazon-use-hh-size        5027 non-null   object\n",
      " 11  Q-amazon-use-how-oft        5027 non-null   object\n",
      " 12  Q-substance-use-cigarettes  5027 non-null   object\n",
      " 13  Q-substance-use-marijuana   5027 non-null   object\n",
      " 14  Q-substance-use-alcohol     5027 non-null   object\n",
      " 15  Q-personal-diabetes         5027 non-null   object\n",
      " 16  Q-personal-wheelchair       5027 non-null   object\n",
      " 17  Q-life-changes              1643 non-null   object\n",
      " 18  Q-sell-YOUR-data            5027 non-null   object\n",
      " 19  Q-sell-consumer-data        5027 non-null   object\n",
      " 20  Q-small-biz-use             5027 non-null   object\n",
      " 21  Q-census-use                5027 non-null   object\n",
      " 22  Q-research-society          5027 non-null   object\n",
      "dtypes: object(23)\n",
      "memory usage: 903.4+ KB\n"
     ]
    }
   ],
   "source": [
    "df_survey_clean.info()"
   ]
  },
  {
   "cell_type": "code",
   "execution_count": 4,
   "metadata": {},
   "outputs": [
    {
     "data": {
      "text/plain": [
       "5027"
      ]
     },
     "execution_count": 4,
     "metadata": {},
     "output_type": "execute_result"
    }
   ],
   "source": [
    "df_survey_clean[\"Survey ResponseID\"].nunique()"
   ]
  },
  {
   "cell_type": "code",
   "execution_count": 5,
   "metadata": {},
   "outputs": [
    {
     "data": {
      "text/plain": [
       "Q-sexual-orientation\n",
       "heterosexual (straight)    3858\n",
       "LGBTQ+                     1111\n",
       "prefer not to say            58\n",
       "Name: count, dtype: int64"
      ]
     },
     "execution_count": 5,
     "metadata": {},
     "output_type": "execute_result"
    }
   ],
   "source": [
    "df_survey_clean[\"Q-sexual-orientation\"].value_counts()"
   ]
  },
  {
   "cell_type": "markdown",
   "metadata": {},
   "source": [
    "### Data cleaning"
   ]
  },
  {
   "cell_type": "code",
   "execution_count": 6,
   "metadata": {},
   "outputs": [],
   "source": [
    "# Edit \"Q-demos-gender\" column\n",
    "def replace_gender(gender):\n",
    "    if gender in [\"Prefer not to say\", \"Other\"]:\n",
    "        return \"Other or prefer not to say\"\n",
    "    return gender\n",
    "\n",
    "\n",
    "# Aplicando a função à coluna\n",
    "df_survey_clean[\"Q-demos-gender\"] = df_survey_clean[\"Q-demos-gender\"].apply(\n",
    "    replace_gender\n",
    ")\n",
    "\n",
    "\n",
    "# Edit \"Q-demos-age\" column\n",
    "def clean_age_category(age):\n",
    "    if \"and older\" in age:\n",
    "        return \"65+\"\n",
    "    return age.replace(\" years\", \"\")\n",
    "\n",
    "\n",
    "df_survey_clean[\"Q-demos-age\"] = df_survey_clean[\"Q-demos-age\"].apply(\n",
    "    clean_age_category\n",
    ")\n",
    "\n",
    "\n",
    "# Edit \"Q-demos-education\" column\n",
    "def remove_parentheses(text):\n",
    "    return text.split(\"(\")[0].strip()\n",
    "\n",
    "\n",
    "df_survey_clean[\"Q-demos-education\"] = df_survey_clean[\"Q-demos-education\"].apply(\n",
    "    remove_parentheses\n",
    ")\n",
    "\n",
    "\n",
    "# Edit \"Q-demos-income\" column\n",
    "def clean_income(value):\n",
    "    if \"Less than\" in value:\n",
    "        return \"Under $25K\"\n",
    "    elif \"or more\" in value:\n",
    "        return \"Over $150K\"\n",
    "    elif \"Prefer not to say\" in value:\n",
    "        return value\n",
    "    else:\n",
    "        value = value.replace(\"$\", \"\").replace(\",\", \"\").replace(\" - \", \"-\")\n",
    "        min_val, max_val = value.split(\"-\")\n",
    "        min_val = int(min_val) // 1000\n",
    "        max_val = int(max_val) // 1000\n",
    "        return f\"${min_val} - ${max_val}.9K\"\n",
    "\n",
    "\n",
    "df_survey_clean[\"Q-demos-income\"] = df_survey_clean[\"Q-demos-income\"].apply(\n",
    "    clean_income\n",
    ")\n",
    "\n",
    "# Edit \"Q-sexual-orientation\" column\n",
    "df_survey_clean[\"Q-sexual-orientation\"] = df_survey_clean[\"Q-sexual-orientation\"].apply(\n",
    "    remove_parentheses\n",
    ")\n",
    "\n",
    "\n",
    "def capitalized_case(s):\n",
    "    if pd.isna(s):\n",
    "        return s\n",
    "    words = s.split(\"_\")\n",
    "    return \" \".join([words[0].capitalize()] + [word.lower() for word in words[1:]])\n",
    "\n",
    "\n",
    "df_survey_clean[\"Q-sexual-orientation\"] = df_survey_clean[\"Q-sexual-orientation\"].apply(\n",
    "    capitalized_case\n",
    ")\n",
    "\n",
    "# Edit \"Q-amazon-use-howmany\" column\n",
    "df_survey_clean[\"Q-amazon-use-howmany\"] = df_survey_clean[\"Q-amazon-use-howmany\"].apply(\n",
    "    remove_parentheses\n",
    ")\n",
    "\n",
    "# Edit \"Q-amazon-use-hh-size\" column\n",
    "df_survey_clean[\"Q-amazon-use-hh-size\"] = df_survey_clean[\"Q-amazon-use-hh-size\"].apply(\n",
    "    remove_parentheses\n",
    ")\n",
    "\n",
    "\n",
    "# Edit \"Q-amazon-use-how-oft\" column\n",
    "def clean_frequency(value):\n",
    "    if \"Less than\" in value:\n",
    "        return \"< 5 times/month\"\n",
    "    elif \"More than\" in value:\n",
    "        return \"> 10 times/month\"\n",
    "    else:\n",
    "        return value.replace(\"times per month\", \"times/month\")\n",
    "\n",
    "\n",
    "df_survey_clean[\"Q-amazon-use-how-oft\"] = df_survey_clean[\"Q-amazon-use-how-oft\"].apply(\n",
    "    clean_frequency\n",
    ")\n",
    "\n",
    "# Edit \"Q-demos-state\" column\n",
    "df_survey_clean[\"Q-demos-state\"] = df_survey_clean[\"Q-demos-state\"].replace(\n",
    "    \"I did not reside in the United States\", \"No information\"\n",
    ")"
   ]
  },
  {
   "cell_type": "code",
   "execution_count": 7,
   "metadata": {},
   "outputs": [
    {
     "data": {
      "text/plain": [
       "Q-demos-state\n",
       "Alabama                  67\n",
       "Alaska                   10\n",
       "Arizona                  95\n",
       "Arkansas                 46\n",
       "California              505\n",
       "Colorado                 91\n",
       "Connecticut              39\n",
       "Delaware                 13\n",
       "District of Columbia     14\n",
       "Florida                 327\n",
       "Georgia                 161\n",
       "Hawaii                   21\n",
       "Idaho                    18\n",
       "Illinois                216\n",
       "Indiana                 121\n",
       "Iowa                     46\n",
       "Kansas                   39\n",
       "Kentucky                 91\n",
       "Louisiana                56\n",
       "Maine                    19\n",
       "Maryland                103\n",
       "Massachusetts           117\n",
       "Michigan                164\n",
       "Minnesota                97\n",
       "Mississippi              35\n",
       "Missouri                 67\n",
       "Montana                   8\n",
       "Nebraska                 34\n",
       "Nevada                   54\n",
       "New Hampshire            21\n",
       "New Jersey              117\n",
       "New Mexico               27\n",
       "New York                300\n",
       "No information            2\n",
       "North Carolina          189\n",
       "North Dakota              5\n",
       "Ohio                    219\n",
       "Oklahoma                 60\n",
       "Oregon                  103\n",
       "Pennsylvania            275\n",
       "Rhode Island             18\n",
       "South Carolina           69\n",
       "South Dakota             11\n",
       "Tennessee               105\n",
       "Texas                   384\n",
       "Utah                     36\n",
       "Vermont                  12\n",
       "Virginia                148\n",
       "Washington              123\n",
       "West Virginia            23\n",
       "Wisconsin               100\n",
       "Wyoming                   6\n",
       "Name: count, dtype: int64"
      ]
     },
     "execution_count": 7,
     "metadata": {},
     "output_type": "execute_result"
    }
   ],
   "source": [
    "df_survey_clean[\"Q-demos-state\"].value_counts().sort_index()"
   ]
  },
  {
   "cell_type": "markdown",
   "metadata": {},
   "source": [
    "### Merge dataset: Survey + US Region"
   ]
  },
  {
   "cell_type": "code",
   "execution_count": 8,
   "metadata": {},
   "outputs": [],
   "source": [
    "# Import region state dataset\n",
    "df_census = pd.read_csv(\"data/raw/us_census_bureau_regions_divisions.csv\")"
   ]
  },
  {
   "cell_type": "code",
   "execution_count": 9,
   "metadata": {},
   "outputs": [
    {
     "name": "stdout",
     "output_type": "stream",
     "text": [
      "<class 'pandas.core.frame.DataFrame'>\n",
      "RangeIndex: 51 entries, 0 to 50\n",
      "Data columns (total 4 columns):\n",
      " #   Column      Non-Null Count  Dtype \n",
      "---  ------      --------------  ----- \n",
      " 0   State       51 non-null     object\n",
      " 1   State Code  51 non-null     object\n",
      " 2   Region      51 non-null     object\n",
      " 3   Division    51 non-null     object\n",
      "dtypes: object(4)\n",
      "memory usage: 1.7+ KB\n"
     ]
    }
   ],
   "source": [
    "df_census.info()"
   ]
  },
  {
   "cell_type": "markdown",
   "metadata": {},
   "source": [
    "### Data cleaning"
   ]
  },
  {
   "cell_type": "code",
   "execution_count": 10,
   "metadata": {},
   "outputs": [],
   "source": [
    "# Add new row \"No information\"\n",
    "df_census.loc[len(df_census)] = [\"No information\"] * 4"
   ]
  },
  {
   "cell_type": "code",
   "execution_count": 11,
   "metadata": {},
   "outputs": [],
   "source": [
    "# rename column\n",
    "df_census = df_census.rename(columns={\"State\": \"Q-demos-state\"})"
   ]
  },
  {
   "cell_type": "markdown",
   "metadata": {},
   "source": [
    "### Merge dataset"
   ]
  },
  {
   "cell_type": "code",
   "execution_count": 12,
   "metadata": {},
   "outputs": [],
   "source": [
    "df_survey = pd.merge(df_census, df_survey_clean, on=\"Q-demos-state\", how=\"inner\")"
   ]
  },
  {
   "cell_type": "markdown",
   "metadata": {},
   "source": [
    "### Reduce dataset size"
   ]
  },
  {
   "cell_type": "code",
   "execution_count": 13,
   "metadata": {},
   "outputs": [],
   "source": [
    "# Convert columns to \"category\"\n",
    "df_survey = df_survey.apply(\n",
    "    lambda col: (\n",
    "        col.astype(\"category\")\n",
    "        if col.dtype == \"object\" and col.name != \"Survey ResponseID\"\n",
    "        else col\n",
    "    )\n",
    ")"
   ]
  },
  {
   "cell_type": "code",
   "execution_count": 14,
   "metadata": {},
   "outputs": [
    {
     "data": {
      "text/plain": [
       "5027"
      ]
     },
     "execution_count": 14,
     "metadata": {},
     "output_type": "execute_result"
    }
   ],
   "source": [
    "df_survey[\"Survey ResponseID\"].nunique()"
   ]
  },
  {
   "cell_type": "markdown",
   "metadata": {},
   "source": [
    "### Reorder columns"
   ]
  },
  {
   "cell_type": "code",
   "execution_count": 15,
   "metadata": {},
   "outputs": [
    {
     "data": {
      "text/plain": [
       "['Q-demos-state',\n",
       " 'State Code',\n",
       " 'Region',\n",
       " 'Division',\n",
       " 'Survey ResponseID',\n",
       " 'Q-demos-age',\n",
       " 'Q-demos-hispanic',\n",
       " 'Q-demos-race',\n",
       " 'Q-demos-education',\n",
       " 'Q-demos-income',\n",
       " 'Q-demos-gender',\n",
       " 'Q-sexual-orientation',\n",
       " 'Q-amazon-use-howmany',\n",
       " 'Q-amazon-use-hh-size',\n",
       " 'Q-amazon-use-how-oft',\n",
       " 'Q-substance-use-cigarettes',\n",
       " 'Q-substance-use-marijuana',\n",
       " 'Q-substance-use-alcohol',\n",
       " 'Q-personal-diabetes',\n",
       " 'Q-personal-wheelchair',\n",
       " 'Q-life-changes',\n",
       " 'Q-sell-YOUR-data',\n",
       " 'Q-sell-consumer-data',\n",
       " 'Q-small-biz-use',\n",
       " 'Q-census-use',\n",
       " 'Q-research-society']"
      ]
     },
     "execution_count": 15,
     "metadata": {},
     "output_type": "execute_result"
    }
   ],
   "source": [
    "df_survey.columns.tolist()"
   ]
  },
  {
   "cell_type": "code",
   "execution_count": 16,
   "metadata": {},
   "outputs": [],
   "source": [
    "new_order = [\n",
    "    \"Survey ResponseID\",\n",
    "    \"Q-demos-state\",\n",
    "    \"State Code\",\n",
    "    \"Region\",\n",
    "    \"Division\",\n",
    "    \"Q-demos-age\",\n",
    "    \"Q-demos-hispanic\",\n",
    "    \"Q-demos-race\",\n",
    "    \"Q-demos-education\",\n",
    "    \"Q-demos-income\",\n",
    "    \"Q-demos-gender\",\n",
    "    \"Q-sexual-orientation\",\n",
    "    \"Q-amazon-use-howmany\",\n",
    "    \"Q-amazon-use-hh-size\",\n",
    "    \"Q-amazon-use-how-oft\",\n",
    "    \"Q-substance-use-cigarettes\",\n",
    "    \"Q-substance-use-marijuana\",\n",
    "    \"Q-substance-use-alcohol\",\n",
    "    \"Q-personal-diabetes\",\n",
    "    \"Q-personal-wheelchair\",\n",
    "    \"Q-life-changes\",\n",
    "    \"Q-sell-YOUR-data\",\n",
    "    \"Q-sell-consumer-data\",\n",
    "    \"Q-small-biz-use\",\n",
    "    \"Q-census-use\",\n",
    "    \"Q-research-society\",\n",
    "]"
   ]
  },
  {
   "cell_type": "code",
   "execution_count": 17,
   "metadata": {},
   "outputs": [],
   "source": [
    "df_survey = df_survey[new_order]"
   ]
  },
  {
   "cell_type": "code",
   "execution_count": 18,
   "metadata": {},
   "outputs": [
    {
     "data": {
      "text/html": [
       "<div>\n",
       "<style scoped>\n",
       "    .dataframe tbody tr th:only-of-type {\n",
       "        vertical-align: middle;\n",
       "    }\n",
       "\n",
       "    .dataframe tbody tr th {\n",
       "        vertical-align: top;\n",
       "    }\n",
       "\n",
       "    .dataframe thead th {\n",
       "        text-align: right;\n",
       "    }\n",
       "</style>\n",
       "<table border=\"1\" class=\"dataframe\">\n",
       "  <thead>\n",
       "    <tr style=\"text-align: right;\">\n",
       "      <th></th>\n",
       "      <th>Survey ResponseID</th>\n",
       "      <th>Q-demos-state</th>\n",
       "      <th>State Code</th>\n",
       "      <th>Region</th>\n",
       "      <th>Division</th>\n",
       "      <th>Q-demos-age</th>\n",
       "      <th>Q-demos-hispanic</th>\n",
       "      <th>Q-demos-race</th>\n",
       "      <th>Q-demos-education</th>\n",
       "      <th>Q-demos-income</th>\n",
       "      <th>...</th>\n",
       "      <th>Q-substance-use-marijuana</th>\n",
       "      <th>Q-substance-use-alcohol</th>\n",
       "      <th>Q-personal-diabetes</th>\n",
       "      <th>Q-personal-wheelchair</th>\n",
       "      <th>Q-life-changes</th>\n",
       "      <th>Q-sell-YOUR-data</th>\n",
       "      <th>Q-sell-consumer-data</th>\n",
       "      <th>Q-small-biz-use</th>\n",
       "      <th>Q-census-use</th>\n",
       "      <th>Q-research-society</th>\n",
       "    </tr>\n",
       "  </thead>\n",
       "  <tbody>\n",
       "    <tr>\n",
       "      <th>0</th>\n",
       "      <td>R_2dYGdPlFmvZpCk6</td>\n",
       "      <td>Alaska</td>\n",
       "      <td>AK</td>\n",
       "      <td>West</td>\n",
       "      <td>Pacific</td>\n",
       "      <td>25 - 34</td>\n",
       "      <td>No</td>\n",
       "      <td>White or Caucasian</td>\n",
       "      <td>Bachelor's degree</td>\n",
       "      <td>$100 - $149.9K</td>\n",
       "      <td>...</td>\n",
       "      <td>No</td>\n",
       "      <td>No</td>\n",
       "      <td>Yes</td>\n",
       "      <td>No</td>\n",
       "      <td>Moved place of residence</td>\n",
       "      <td>No</td>\n",
       "      <td>No</td>\n",
       "      <td>No</td>\n",
       "      <td>Yes</td>\n",
       "      <td>Yes</td>\n",
       "    </tr>\n",
       "    <tr>\n",
       "      <th>1</th>\n",
       "      <td>R_DAfQp2Y7dO2oVvX</td>\n",
       "      <td>Alaska</td>\n",
       "      <td>AK</td>\n",
       "      <td>West</td>\n",
       "      <td>Pacific</td>\n",
       "      <td>25 - 34</td>\n",
       "      <td>No</td>\n",
       "      <td>White or Caucasian</td>\n",
       "      <td>High school diploma or GED</td>\n",
       "      <td>$25 - $49.9K</td>\n",
       "      <td>...</td>\n",
       "      <td>I stopped in the recent past</td>\n",
       "      <td>Yes</td>\n",
       "      <td>No</td>\n",
       "      <td>No</td>\n",
       "      <td>Moved place of residence</td>\n",
       "      <td>Yes if I get part of the profit</td>\n",
       "      <td>Yes if consumers get part of the profit</td>\n",
       "      <td>Yes</td>\n",
       "      <td>Yes</td>\n",
       "      <td>Yes</td>\n",
       "    </tr>\n",
       "  </tbody>\n",
       "</table>\n",
       "<p>2 rows × 26 columns</p>\n",
       "</div>"
      ],
      "text/plain": [
       "   Survey ResponseID Q-demos-state State Code Region Division Q-demos-age  \\\n",
       "0  R_2dYGdPlFmvZpCk6        Alaska         AK   West  Pacific     25 - 34   \n",
       "1  R_DAfQp2Y7dO2oVvX        Alaska         AK   West  Pacific     25 - 34   \n",
       "\n",
       "  Q-demos-hispanic        Q-demos-race           Q-demos-education  \\\n",
       "0               No  White or Caucasian           Bachelor's degree   \n",
       "1               No  White or Caucasian  High school diploma or GED   \n",
       "\n",
       "   Q-demos-income  ...     Q-substance-use-marijuana Q-substance-use-alcohol  \\\n",
       "0  $100 - $149.9K  ...                            No                      No   \n",
       "1    $25 - $49.9K  ...  I stopped in the recent past                     Yes   \n",
       "\n",
       "  Q-personal-diabetes Q-personal-wheelchair            Q-life-changes  \\\n",
       "0                 Yes                    No  Moved place of residence   \n",
       "1                  No                    No  Moved place of residence   \n",
       "\n",
       "                  Q-sell-YOUR-data                     Q-sell-consumer-data  \\\n",
       "0                               No                                       No   \n",
       "1  Yes if I get part of the profit  Yes if consumers get part of the profit   \n",
       "\n",
       "  Q-small-biz-use Q-census-use Q-research-society  \n",
       "0              No          Yes                Yes  \n",
       "1             Yes          Yes                Yes  \n",
       "\n",
       "[2 rows x 26 columns]"
      ]
     },
     "execution_count": 18,
     "metadata": {},
     "output_type": "execute_result"
    }
   ],
   "source": [
    "df_survey.head(2)"
   ]
  },
  {
   "cell_type": "code",
   "execution_count": 19,
   "metadata": {},
   "outputs": [
    {
     "data": {
      "text/plain": [
       "Q-demos-gender\n",
       "Female                        2589\n",
       "Male                          2311\n",
       "Other or prefer not to say     127\n",
       "Name: count, dtype: int64"
      ]
     },
     "execution_count": 19,
     "metadata": {},
     "output_type": "execute_result"
    }
   ],
   "source": [
    "df_survey[\"Q-demos-gender\"].value_counts()"
   ]
  },
  {
   "cell_type": "code",
   "execution_count": 20,
   "metadata": {},
   "outputs": [
    {
     "name": "stdout",
     "output_type": "stream",
     "text": [
      "<class 'pandas.core.frame.DataFrame'>\n",
      "RangeIndex: 5027 entries, 0 to 5026\n",
      "Data columns (total 26 columns):\n",
      " #   Column                      Non-Null Count  Dtype   \n",
      "---  ------                      --------------  -----   \n",
      " 0   Survey ResponseID           5027 non-null   object  \n",
      " 1   Q-demos-state               5027 non-null   category\n",
      " 2   State Code                  5027 non-null   category\n",
      " 3   Region                      5027 non-null   category\n",
      " 4   Division                    5027 non-null   category\n",
      " 5   Q-demos-age                 5027 non-null   category\n",
      " 6   Q-demos-hispanic            5027 non-null   category\n",
      " 7   Q-demos-race                5027 non-null   category\n",
      " 8   Q-demos-education           5027 non-null   category\n",
      " 9   Q-demos-income              5027 non-null   category\n",
      " 10  Q-demos-gender              5027 non-null   category\n",
      " 11  Q-sexual-orientation        5027 non-null   category\n",
      " 12  Q-amazon-use-howmany        5027 non-null   category\n",
      " 13  Q-amazon-use-hh-size        5027 non-null   category\n",
      " 14  Q-amazon-use-how-oft        5027 non-null   category\n",
      " 15  Q-substance-use-cigarettes  5027 non-null   category\n",
      " 16  Q-substance-use-marijuana   5027 non-null   category\n",
      " 17  Q-substance-use-alcohol     5027 non-null   category\n",
      " 18  Q-personal-diabetes         5027 non-null   category\n",
      " 19  Q-personal-wheelchair       5027 non-null   category\n",
      " 20  Q-life-changes              1643 non-null   category\n",
      " 21  Q-sell-YOUR-data            5027 non-null   category\n",
      " 22  Q-sell-consumer-data        5027 non-null   category\n",
      " 23  Q-small-biz-use             5027 non-null   category\n",
      " 24  Q-census-use                5027 non-null   category\n",
      " 25  Q-research-society          5027 non-null   category\n",
      "dtypes: category(25), object(1)\n",
      "memory usage: 172.4+ KB\n"
     ]
    }
   ],
   "source": [
    "df_survey.info()"
   ]
  },
  {
   "cell_type": "markdown",
   "metadata": {},
   "source": [
    "### Save dataset"
   ]
  },
  {
   "cell_type": "code",
   "execution_count": 21,
   "metadata": {},
   "outputs": [],
   "source": [
    "df_survey.to_parquet(\"data/ready/amazon_survey.parquet\")"
   ]
  }
 ],
 "metadata": {
  "kernelspec": {
   "display_name": "base",
   "language": "python",
   "name": "python3"
  },
  "language_info": {
   "codemirror_mode": {
    "name": "ipython",
    "version": 3
   },
   "file_extension": ".py",
   "mimetype": "text/x-python",
   "name": "python",
   "nbconvert_exporter": "python",
   "pygments_lexer": "ipython3",
   "version": "3.11.5"
  }
 },
 "nbformat": 4,
 "nbformat_minor": 2
}
